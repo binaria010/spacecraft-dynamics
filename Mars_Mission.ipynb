{
 "cells": [
  {
   "cell_type": "markdown",
   "metadata": {},
   "source": [
    "# Spacecraft Dynamics Capstone: Mars Mission\n"
   ]
  },
  {
   "cell_type": "markdown",
   "metadata": {},
   "source": [
    "## Task 1: Orbit Simulation\n",
    "\n",
    "Assume the general orbit frame $\\mathcal O =\\{\\pmb\\iota_r, \\pmb\\iota_{\\theta},\\pmb\\iota_h\\}$. This allows the position vector on a circular orbit to be written as $\\pmb r= r\\pmb\\iota_r$ where $r$ is here a constant radius. Your tasks are:\n",
    "\n",
    "1. Derive the inertial spacecraft velocity vector $\\dot{\\pmb r}$. Note that for a circular orbit $\\dot\\theta$ is constant\n",
    "\n",
    "2. Write a function whose inputs are the radius $r$ and the $(3-1-3)$ Euler angles $(\\Omega, i, \\theta)$ and the outputs are the inertial position vector $^N \\pmb r$ and the inertial velocity vector $^N \\dot{\\pmb r}$ of the associated circular orbit.\n",
    "\n",
    "3. Confirm the operation of this program by entering the inertial position and velocity vector results for $(r_{LMO},\\Omega_{LMO},i_{LMO}, \\theta_{LMO})$ at time 450 seconds.\n",
    "\n",
    "For this problems we use the function pos_vel(h, euler,t) implemented in the file MArsMission.py"
   ]
  },
  {
   "cell_type": "code",
   "execution_count": 1,
   "metadata": {},
   "outputs": [],
   "source": [
    "import numpy as np\n",
    "from DCMmatrix import *\n",
    "from MarsMission import *\n",
    "import matplotlib.pyplot as plt"
   ]
  },
  {
   "cell_type": "markdown",
   "metadata": {},
   "source": [
    "### For the LMO orbit at time 450 sec:"
   ]
  },
  {
   "cell_type": "code",
   "execution_count": 2,
   "metadata": {},
   "outputs": [
    {
     "name": "stdout",
     "output_type": "stream",
     "text": [
      "The inertial position and velocity vectors are at time t = 450s :  [-669.28508994 3227.49826592 1883.18106617] [-3.2559645  -0.79778654  0.21011585]\n"
     ]
    }
   ],
   "source": [
    "Omega, i, theta0 = 20,30,60 #in deg\n",
    "h = 400  # in km\n",
    "r_LMO, v_LMO = pos_and_vel(h, (Omega, i, theta0),450)\n",
    "print('The inertial position and velocity vectors are at time t = 450s : ', r_LMO, v_LMO)"
   ]
  },
  {
   "cell_type": "markdown",
   "metadata": {},
   "source": [
    "##### For the GMO orbit at time 1150 sec:"
   ]
  },
  {
   "cell_type": "code",
   "execution_count": 3,
   "metadata": {},
   "outputs": [
    {
     "name": "stdout",
     "output_type": "stream",
     "text": [
      "The inertial position and velocity vectors are at time t = 1150s :  [ -5399.15037424 -19697.64252078      0.        ] [ 1.396568   -0.38280117  0.        ]\n"
     ]
    }
   ],
   "source": [
    "r_GMO = 20424.2\n",
    "h_GMO = r_GMO - R_m\n",
    "Omega_GMO, i_GMO, theta0_GMO = 0, 0, 250\n",
    "r_vec_GMO, rdot_GMO = pos_and_vel(h_GMO, (Omega_GMO, i_GMO, theta0_GMO), 1150)\n",
    "print('The inertial position and velocity vectors are at time t = 1150s : ', r_vec_GMO, rdot_GMO)"
   ]
  },
  {
   "cell_type": "code",
   "execution_count": 4,
   "metadata": {},
   "outputs": [
    {
     "data": {
      "text/plain": [
       "140.655100797196"
      ]
     },
     "execution_count": 4,
     "metadata": {},
     "output_type": "execute_result"
    }
   ],
   "source": [
    "import math\n",
    "\n",
    "math.acos(np.dot(r_LMO, r_vec_GMO)/(norm(r_LMO)*norm(r_vec_GMO)))*180/np.pi"
   ]
  },
  {
   "cell_type": "markdown",
   "metadata": {},
   "source": [
    "## Task 2: Orbit Frame Orientation\n",
    "\n",
    "Let Hill frame $H=\\{\\hat{\\pmb\\iota}_r, \\hat{\\pmb\\iota}_{\\theta},\\hat{\\pmb\\iota}_h\\}$ be the orbit frame of the LMO satellite. These base vectors are generally\n",
    "defined as\n",
    "$$\n",
    "\\hat{\\pmb\\iota}_r = \\frac{\\pmb r_{LMO}}{|\\pmb r_{LMO}|},\\ \\ \\ \\ \\hat{\\pmb\\iota}_{\\theta}=\\hat{\\pmb\\iota}_h\\times\\hat{\\pmb\\iota}_r,\\ \\ \\ \\  \\hat{\\pmb\\iota}_{h}=\\frac{\\pmb r_{LMO}\\times\\dot{\\pmb r}_{LMO}}{|\\pmb r_{LMO}\\times\\dot{\\pmb r}_{LMO}|}\n",
    "$$\n",
    "\n",
    "1. Determine an analytic expressions for the matrix $HN$\n",
    "2. Write a function whose input is simply time t, and the output is the DCM $HN(t)$\n",
    "3. Validate the operation of this function by computing $HN(300s)$\n",
    "\n",
    "The matrix $HN(t)$ is simply the matrix whose rows are the vectors of the frame $H$ written in the $N$ frame, i.e\n",
    "$$\n",
    "HN(t) = \\begin{bmatrix} \\hat{\\pmb\\iota}_r^T(t)\\\\ \\hat{\\pmb\\iota}_{\\theta}^T(t)\\\\ \\hat{\\pmb\\iota}_{h}^T(t)\n",
    "\\end{bmatrix}\n",
    "$$\n",
    "this vectors can be computed using the function implemented in task 1 which returns $\\pmb r_{LMO},\\dot{\\pmb r}_{LMO}$"
   ]
  },
  {
   "cell_type": "code",
   "execution_count": 5,
   "metadata": {},
   "outputs": [
    {
     "name": "stdout",
     "output_type": "stream",
     "text": [
      "The DCM matrix HN is:  [[-0.0464774   0.87414792  0.48343072]\n",
      " [-0.98417245 -0.12292213  0.12765086]\n",
      " [ 0.17101007 -0.46984631  0.8660254 ]]\n"
     ]
    }
   ],
   "source": [
    "Omega_LMO, i_LMO, theta0_LMO = 20,30,60 #in deg\n",
    "h_LMO = 400  # in km\n",
    "t = 300 # in sec\n",
    "HN = DCM_HN(t)\n",
    "print('The DCM matrix HN is: ', HN)"
   ]
  },
  {
   "cell_type": "markdown",
   "metadata": {},
   "source": [
    "## Task 3: Sun-Pointing Reference Frame Orientation \n",
    "\n",
    "To point the spacecraft solar panels axis $\\hat{\\pmb b}_3$ at the sun, the reference frame $R_s$ must be chosen such that $\\hat{\\pmb r}_3$ axis points in the sun direction ($\\hat{\\pmb n}_2$ in this scenario). Further, assume the first axis $\\hat{\\pmb r}_1$ points in the $-\\hat{\\pmb n}_1$ direction.Your tasks are:\n",
    "\n",
    "1. Determine an analytic expressions for the sun pointing reference frame $R_s$ by defining the DCM $R_sN$\n",
    "\n",
    "2. Write a function that returns $R_sN$\n",
    "\n",
    "3. Validate the evaluation of $R_sN$ by providing the numerical values for $t=0 s$\n",
    "\n",
    "4. What is the angular velocity $^N\\pmb\\omega_{R_s/N}$?\n"
   ]
  },
  {
   "cell_type": "markdown",
   "metadata": {},
   "source": [
    "## \n",
    "$R_s = \\{r_1,r_2,r_3\\} = \\{-\\hat{n}_1, \\hat{n}_3,\\hat{n}_2\\}$. Then the matrix $R_s = \\begin{bmatrix} r_1^T\\\\ r_2^T\\\\ r_3^T\\end{bmatrix}$\n",
    "Then the matrix $R_sN(t)$ is computed by :\n",
    "$$\n",
    "R_sN = (R_sH)(HN(t)),\\ \\ \\ \\text{with } R_sH =R_s@H\n",
    "$$\n",
    "the matrix $H$ is a matrix whose column vectors are the vectors of the hill frame, this matrix coincides with $HN(t)^T$\n",
    "\n",
    "so in the end $R_sN = R_s=\\begin{bmatrix}\\hat{-n}_1^T \\\\ \\hat{n}_3^T\\\\ \\hat{n}_2^T\\end{bmatrix}=\\begin{bmatrix} -1 & 0 & 0\\\\ 0 &0&1 \\\\ 0&1&0\\end{bmatrix}$ which is constant in time.\n",
    "\n",
    "The angular velocity of fram $R_s$ with respect to $N$ is $0$.\n",
    "\n"
   ]
  },
  {
   "cell_type": "code",
   "execution_count": 6,
   "metadata": {},
   "outputs": [
    {
     "name": "stdout",
     "output_type": "stream",
     "text": [
      "[[-1  0  0]\n",
      " [ 0  0  1]\n",
      " [ 0  1  0]]\n"
     ]
    }
   ],
   "source": [
    "RsN = R_sN() \n",
    "print(RsN)"
   ]
  },
  {
   "cell_type": "markdown",
   "metadata": {},
   "source": [
    "## Task 4: Nadir-Pointing Reference Frame Orientation (10 points)\n",
    "\n",
    "To point the spacecraft sensor platform axis $\\hat{b}_1$ towards the center of Mars or nadir direction, the reference frame $R_n$ must be chosen such that $\\hat{r}_1$ axis points towards the planet. Further, assume the second axis $\\hat{r}_2$ points in the velocity direction $\\hat{\\pmb\\iota}_{\\theta}$ . Your tasks are:\n",
    "\n",
    "1. Determine an analytic expressions for the nadir pointing reference frame $R_n$ by defining the DCM $R_nN$\n",
    "\n",
    "2. Write a function that returns $R_nN$ as a function of time.\n",
    "\n",
    "3. Write a function that determines the angular velocity vector $^N\\pmb\\omega_{R_n/N}$.\n",
    "\n",
    "4. Validate the evaluation of $R_nN$ by providing the numerical values for $t = 330s$.\n",
    "\n",
    "5. What is the angular velocity $^N\\pmb\\omega_{R_n/N}(330s)$?\n",
    "\n",
    "solution:\n",
    "\n",
    "1.$R_nN = R_nH @ HN(t)$ but \n",
    "$$\n",
    "R_nH =\\begin{bmatrix}-\\hat{\\pmb\\iota}_r^T\\\\ \\hat{\\pmb\\iota}_{\\theta}^T\\\\ -\\hat{\\pmb\\iota}_h.T \\end{bmatrix}\\begin{bmatrix}\\hat{\\pmb\\iota}_r^T & \\hat{\\pmb\\iota}_{\\theta}^T & \\hat{\\pmb\\iota}_h.T \\end{bmatrix}=\n",
    "$$ \n",
    "\n",
    "\n",
    "2. To compute the angular velocity $w_{Rn/N}$ in the frame $N$:\n",
    "$$\n",
    "^Nw_{RnN} = ^Nw_{Rn/H} + ^Nw_{H/N}\n",
    "$$\n",
    "but $^N w_{Rn/H}=0$ then \n",
    "$$\n",
    "^Nw_{Rn/N} = ^Nw_{H/N} = (HN^T)^Hw_{H/N} \n",
    "$$\n",
    "with $H^ w_{H/N} = \\dot{\\theta}\\hat{\\pmb\\iota}_h$\n",
    "\n",
    "then: "
   ]
  },
  {
   "cell_type": "code",
   "execution_count": 7,
   "metadata": {},
   "outputs": [
    {
     "name": "stdout",
     "output_type": "stream",
     "text": [
      "The DCM matrix $R_nN$ at time 330 seconds is =  [[ 0.07258174 -0.87057754 -0.48664837]\n",
      " [-0.98259221 -0.1460794   0.11477527]\n",
      " [-0.17101007  0.46984631 -0.8660254 ]]\n",
      "the angular velocity of R_n relative to N in the N frame is: , [ 0.00015131 -0.00041572  0.00076626]\n"
     ]
    }
   ],
   "source": [
    "RnN = R_nN(330)\n",
    "print('The DCM matrix $R_nN$ at time 330 seconds is = ', RnN)\n",
    "NwRnN = N_w_RnN(330)\n",
    "print('the angular velocity of R_n relative to N in the N frame is: ,', NwRnN)"
   ]
  },
  {
   "cell_type": "markdown",
   "metadata": {},
   "source": [
    "## Task 5: GMO-Pointing Reference Frame Orientation\n",
    "\n",
    "To point the nano-satellite communication platform axis $−\\hat{\\pmb b}_1$ towards the GMO mother spacecraft, the communication reference frame $R_c$ must be chosen sucht hat $−\\hat{\\pmb r}_1$ axis points towards the GMO satellite location. Assume $\\Delta\\pmb r = \\pmb r_{GMO} -\\pmb r_{LMO}$. Further, to fully define a three-dimensional reference frame, assume the second axis is defined as\n",
    "\n",
    "$$\n",
    "\\hat{\\pmb r}_2 = \\frac{\\Delta\\pmb r\\times \\hat{\\pmb n}_3}{|\\Delta\\pmb r\\times \\hat{\\pmb n}_3|}\n",
    "$$\n",
    "\n",
    "while the third is then defined as $\\hat{\\pmb r}_3 = \\hat{\\pmb r}_1\\times\\hat{\\pmb r}_2$. Your tasks are:\n",
    "\n",
    "1. Determine an analytic expressions for the communication mode reference frame $R_c$ by defining the DCM $R_cN$.\n",
    "\n",
    "2. Write a function that returns $R_cN$ as a function of time.\n",
    "\n",
    "3. Write a function that determines the angular velocity vector $^N\\omega_{Rc/N}$. Note that an analytical expression for this body rate vector is very challenging. It is ok to use numerical differences in these frames to compute $\\frac{d(R_cN)}{dt}$, and then relate this to $\\omega_{R_c/N}$. As the orbit trajectories are given as a function of time, it is straight forward to include a time-based numerical difference method.\n",
    "\n",
    "4. Validate the evaluation of $R_cN$ by providing the numerical values for $t = 330s$.\n",
    "\n",
    "5. Validate the angular velocity $^N\\omega_{Rc/N}(330s)$."
   ]
  },
  {
   "cell_type": "code",
   "execution_count": 8,
   "metadata": {},
   "outputs": [
    {
     "name": "stdout",
     "output_type": "stream",
     "text": [
      "The DCM matrix RcN at t= 330s is: \n",
      " [[ 0.26547539  0.96092816  0.07835742]\n",
      " [-0.96389181  0.26629415  0.        ]\n",
      " [-0.02086612 -0.07552807  0.99692533]]\n"
     ]
    }
   ],
   "source": [
    "RcN = R_cN(330)\n",
    "print('The DCM matrix RcN at t= 330s is: \\n', RcN)"
   ]
  },
  {
   "cell_type": "code",
   "execution_count": 9,
   "metadata": {},
   "outputs": [
    {
     "name": "stdout",
     "output_type": "stream",
     "text": [
      "check if is orthogonal or nearly: \n",
      " [[1.00000000e+00 0.00000000e+00 1.38777878e-17]\n",
      " [0.00000000e+00 1.00000000e+00 3.46944695e-18]\n",
      " [1.38777878e-17 3.46944695e-18 1.00000000e+00]]\n"
     ]
    }
   ],
   "source": [
    "print('check if is orthogonal or nearly: \\n', RcN@RcN.T)"
   ]
  },
  {
   "cell_type": "code",
   "execution_count": 10,
   "metadata": {},
   "outputs": [
    {
     "name": "stdout",
     "output_type": "stream",
     "text": [
      "The angular velocity is :  [ 1.97828967e-05 -5.46541194e-06  1.91300007e-04]\n"
     ]
    }
   ],
   "source": [
    "w = N_w_RcN(330)\n",
    "print('The angular velocity is : ', w)"
   ]
  },
  {
   "cell_type": "markdown",
   "metadata": {},
   "source": [
    "## Task 6: Attitude Error Evaluation\n",
    "\n",
    "Any attitude feedback control algorithm requires the ability to compute the attitude and angular velocity tracking errors of the current body frame $B$ relative to the reference frame $R$. Your tasks are:\n",
    "\n",
    "1. Write a function that has the inputs of time, the current body attitude states $\\pmb\\sigma_{B/N}$ and $^B\\pmb\\omega_{B/N}$, as well as the current references frame orientation $RN$ and rates $N^\\pmb\\omega_{R/N}$, and returns the associated tracking errors $\\pmb\\sigma_{B/R}$ and $B^\\pmb\\omega_{B/R}$.\n",
    "\n",
    "2. Validate this function by computing $\\pmb\\sigma_{B/R}$ and $B^\\pmb\\omega_{B/R}$ at the initial time $t_0$ for the sun-pointing, nadir pointing and GMO reference orientations above. Just compute the LMO tracking errors at $t_0$, with the initial conditions given in section 3.1, for the three reference frames at the initial time.\n",
    "\n",
    "\n",
    "in the file MarsMission.py we've implemented this function, now we used for the sun-pointing, nadir and the GMO reference to complete parts 1,2,3,4 of this task.\n",
    "\n",
    "The initial conditions are:\n",
    "\n",
    "$$\n",
    "\\pmb\\sigma_{B/N}(t_0) = \\begin{bmatrix}0.3\\\\ -0.4 \\\\ 0.5\\end{bmatrix},\\ \\ \\ \\  ^B\\pmb\\omega_{B/N}(t_0) =\\begin{bmatrix} 1.0 \\\\ 1.75 \\\\ -2.20\\end{bmatrix}\\deg/s\n",
    "$$\n",
    "\n",
    "The rigid LMO spacecraft inertia tensor is given by:\n",
    "$$\n",
    "^BI = ^B\\begin{bmatrix}10&0&0\\\\0&5&0\\\\0&0&7.5\\end{bmatrix}kgm^2\n",
    "$$"
   ]
  },
  {
   "cell_type": "markdown",
   "metadata": {},
   "source": [
    "### For sun-pointing reference (power mode):\n",
    "\n",
    "$$\n",
    "RN = R_sN(), \\ \\ ^Nw_{R/N} = (0,0,0)\n",
    "$$\n",
    "and initial $\\pmb\\sigma_{B/N}, ^B\\pmb\\omega_{B/N}$ given above:"
   ]
  },
  {
   "cell_type": "code",
   "execution_count": 11,
   "metadata": {},
   "outputs": [],
   "source": [
    "RN_sun = R_sN()\n",
    "N_w_RN_sun = np.zeros(3)\n",
    "s_BN0 = np.array([0.3, -0.4, 0.5])\n",
    "B_w_BN0 = np.array([1.0, 1.75, -2.20])*np.pi/180 #in degrees\n",
    "\n",
    "sun_sbr, sun_rates = tracking_errors(s_BN0, B_w_BN0, RN_sun, N_w_RN_sun)"
   ]
  },
  {
   "cell_type": "code",
   "execution_count": 12,
   "metadata": {},
   "outputs": [
    {
     "name": "stdout",
     "output_type": "stream",
     "text": [
      "The tracking errors for the Sun Pointing reference are: \n",
      " $\\sigma_{B/R}= $  [-0.77542077 -0.47386825  0.04307893] \n",
      " $^B\\omega_{B/R} = $ [ 0.01745329  0.03054326 -0.03839724]\n"
     ]
    }
   ],
   "source": [
    "print('The tracking errors for the Sun Pointing reference are: \\n', '$\\sigma_{B/R}= $ ',sun_sbr, '\\n $^B\\omega_{B/R} = $', sun_rates)"
   ]
  },
  {
   "cell_type": "markdown",
   "metadata": {},
   "source": [
    "### For nadir-pointing reference (science mode):\n",
    "\n",
    "$$\n",
    "RN = \\text{R_nN(t_0)}, \\ \\ ^N\\omega_{R/N} = \\text{N_w_RnN}(t_0)\n",
    "$$\n",
    "and the same initial condtions for the attitude of body frame and rates as above."
   ]
  },
  {
   "cell_type": "code",
   "execution_count": 13,
   "metadata": {},
   "outputs": [],
   "source": [
    "RN_nadir = R_nN(0)\n",
    "N_w_RN_nadir = N_w_RnN(0)\n",
    "s_BN0 = np.array([0.3, -0.4, 0.5])\n",
    "B_w_BN0 = np.array([1.0, 1.75, -2.20])*np.pi/180 #in radians\n",
    "\n",
    "nadir_sbr, nadir_rates = tracking_errors(s_BN0, B_w_BN0, RN_nadir, N_w_RN_nadir)"
   ]
  },
  {
   "cell_type": "code",
   "execution_count": 14,
   "metadata": {},
   "outputs": [
    {
     "name": "stdout",
     "output_type": "stream",
     "text": [
      "The tracking errors for the Nadir Pointing reference are: \n",
      " $\\sigma_{B/R}= $  [0.26226523 0.55470457 0.03942405] \n",
      " $^B\\omega_{B/R} = $ [ 0.01684883  0.03092879 -0.03891576]\n"
     ]
    }
   ],
   "source": [
    "print('The tracking errors for the Nadir Pointing reference are: \\n', '$\\sigma_{B/R}= $ ',nadir_sbr, '\\n $^B\\omega_{B/R} = $', nadir_rates)"
   ]
  },
  {
   "cell_type": "markdown",
   "metadata": {},
   "source": [
    "### For GMO- pointing reference (communication mode):\n",
    "\n",
    "$$\n",
    "RN = \\text{R_cN(0)}, \\ \\ ^B\\omega_{R/N} =\\text{N_w_RcN(0)}\n",
    "$$\n",
    "and the same initial condtions for the attitude of body frame and rates as above."
   ]
  },
  {
   "cell_type": "code",
   "execution_count": 15,
   "metadata": {},
   "outputs": [],
   "source": [
    "RN_GMO = R_cN(0)\n",
    "N_w_RN_GMO = N_w_RcN(0)\n",
    "s_BN0 = np.array([0.3, -0.4, 0.5])\n",
    "B_w_BN0 = np.array([1.0, 1.75, -2.20]) #in degrees\n",
    "\n",
    "GMO_sbr, GMO_rates = tracking_errors(s_BN0, B_w_BN0, RN_GMO, N_w_RN_GMO)"
   ]
  },
  {
   "cell_type": "code",
   "execution_count": 16,
   "metadata": {},
   "outputs": [
    {
     "name": "stdout",
     "output_type": "stream",
     "text": [
      "The tracking errors for the GMO Pointing reference are: \n",
      " $\\sigma_{B/R}= $  [ 0.01697198 -0.38280275  0.2076131 ] \n",
      " $^B\\omega_{B/R} = $ [ 0.9998438   1.75011418 -2.20003963]\n"
     ]
    }
   ],
   "source": [
    "print('The tracking errors for the GMO Pointing reference are: \\n', '$\\sigma_{B/R}= $ ',GMO_sbr, '\\n $^B\\omega_{B/R} = $', GMO_rates)"
   ]
  },
  {
   "cell_type": "markdown",
   "metadata": {},
   "source": [
    "## Task 7: Numerical Attitude Simulator\n",
    "\n",
    "In order to integrate the attitude you need a numerical integrator. The LMO and GMO orbit satellite positions are given already as a function of time from your earlier tasks. Let the propagated attitude\n",
    "state $X$ be\n",
    "$$\n",
    "X =\\begin{bmatrix}\\pmb\\sigma_{B/N}\\\\ ^B\\pmb\\omega_{B/N}\\end{bmatrix}\n",
    "$$\n",
    "\n",
    "Assume that the spacecraft is rigid and its dynamics obey\n",
    "\n",
    "$$\n",
    "I\\dot{\\pmb\\omega}_{B/N} = -[\\tilde{\\pmb\\omega}_{B/N}]I\\pmb\\omega_{B/N} +\\pmb u\n",
    "$$\n",
    "\n",
    "where u is your external control torque vector. Your tasks are:\n",
    "\n",
    "1. Write an RK4 integrator using your programing language of choice (i.e., do not use a built-in integrator such as Matlab’s ode45). Make sure your time step is chosen small enough such that numerical integrator errors are not visible in your simulation result plots. With RK4 it is ok to use a fixed integration time step of 1 second. Further, hold the control u vector piece-wise constant over the RK4 integration to the next time step. You can updated the control u at every time step in advance fo the RK4 integration step.\n",
    "\n",
    "2. Demonstrate that your integrator works properly by integrating $X$ forward for 500 seconds with $u = 0$. Provide $H = [I]\\pmb\\omega_{B/N}$ at $500s$ and express the $H$ vector in the $B$ frame.\n",
    "\n",
    "3. Provide the rotational kinetic energy $T = \\frac{1}{2}\\pmb\\omega_{B/N}^T[I]\\pmb\\omega_{B/N}$ at $500$ seconds.\n",
    "\n",
    "4. Provide the MRP attitude $\\pmb\\sigma_{B/N}(500s)$.\n",
    "\n",
    "5. Provide angular momentum vector $^N\\pmb H(500s)$ in inertial frame components.\n",
    "\n",
    "6. If you apply a fixed control torque $^B\\pmb u = (0.01, −0.01, 0.02) Nm$, provide the attitude $\\pmb\\sigma_{B/N}(t = 100s)$.\n"
   ]
  },
  {
   "cell_type": "code",
   "execution_count": 17,
   "metadata": {},
   "outputs": [],
   "source": [
    "I = np.diag([10, 5, 7.5]) \n",
    "s_BN0 = np.array([0.3, -0.4, 0.5])\n",
    "B_w_BN0 = np.array([1.0, 1.75, -2.20])*np.pi/180 #in degrees. Initial condition for w_BN\n",
    "x0 = np.hstack((s_BN0, B_w_BN0)) # initial condition for state x\n",
    "u = np.zeros(3)\n",
    "tspan = (0,510) # seconds\n",
    "step = 1 # second\n",
    "\n",
    "X = RG4(xdot, tspan, x0, step, u, I)"
   ]
  },
  {
   "cell_type": "code",
   "execution_count": 18,
   "metadata": {},
   "outputs": [
    {
     "name": "stdout",
     "output_type": "stream",
     "text": [
      "The following iscomputed with control law u =  [0. 0. 0.]\n",
      "THe momentum vector at t=500s in the B frame is H=  [ 0.1378972   0.13266205 -0.31638781]\n",
      "The rotational kinetic energ is T=  0.009384120387923595\n",
      "Attitude of body relative to N at t=500s is:  [ 0.13765932  0.56027024 -0.03217282]\n",
      "Angular velocity of B relative to N at t=500s is :  [ 0.01378972  0.02653241 -0.04218504]\n",
      "THe momentum vector at t=500s in the N frame is H=  [-0.2641265   0.25278185  0.05526875]\n"
     ]
    }
   ],
   "source": [
    "s_bn = X[0:3,500]\n",
    "w_bn = X[3:, 500]\n",
    "H = I@w_bn\n",
    "T = 0.5*np.dot(w_bn, I@w_bn)\n",
    "BN = MRP_to_DCM(s_bn)\n",
    "N_H = BN.T@H\n",
    "print('The following iscomputed with control law u = ', u)\n",
    "print('THe momentum vector at t=500s in the B frame is H= ', H)\n",
    "print('The rotational kinetic energ is T= ', T)\n",
    "print('Attitude of body relative to N at t=500s is: ', s_bn)\n",
    "print('Angular velocity of B relative to N at t=500s is : ', w_bn)\n",
    "print('THe momentum vector at t=500s in the N frame is H= ', N_H)\n"
   ]
  },
  {
   "cell_type": "code",
   "execution_count": 19,
   "metadata": {},
   "outputs": [
    {
     "data": {
      "text/plain": [
       "[<matplotlib.lines.Line2D at 0x7f988450c8b0>]"
      ]
     },
     "execution_count": 19,
     "metadata": {},
     "output_type": "execute_result"
    },
    {
     "data": {
      "image/png": "[encoded data removed]",
      "text/plain": [
       "<Figure size 432x288 with 1 Axes>"
      ]
     },
     "metadata": {
      "needs_background": "light"
     },
     "output_type": "display_data"
    }
   ],
   "source": [
    "plt.plot(np.arange(0,511,1), norm(X[0:3,:],2,0))"
   ]
  },
  {
   "cell_type": "markdown",
   "metadata": {},
   "source": [
    "### If we apply a fixed control torque:\n",
    "\n",
    "$$\n",
    "^B\\pmb u = (0.01, -0.01, 0.02) Nm\n",
    "$$\n",
    "Provide the attitude $\\pmb\\sigma_{B/N}(100s)"
   ]
  },
  {
   "cell_type": "code",
   "execution_count": 20,
   "metadata": {},
   "outputs": [],
   "source": [
    "I = np.diag([10, 5, 7.5]) \n",
    "s_BN0 = np.array([0.3, -0.4, 0.5])\n",
    "B_w_BN0 = np.array([1.0, 1.75, -2.20])*np.pi/180 #in degrees. Initial condition for w_BN\n",
    "x0 = np.hstack((s_BN0, B_w_BN0)) # initial condition for state x\n",
    "u = np.array([0.01, -0.01, 0.02])\n",
    "tspan = (0,110) # seconds\n",
    "step = 1 # second\n",
    "\n",
    "X_u = RG4(xdot, tspan, x0, step, u, I)"
   ]
  },
  {
   "cell_type": "code",
   "execution_count": 21,
   "metadata": {},
   "outputs": [
    {
     "name": "stdout",
     "output_type": "stream",
     "text": [
      "The attitude $\\sigma_B/N(100s)$ is:  [-0.22686111 -0.64138601  0.2425498 ]\n"
     ]
    }
   ],
   "source": [
    "s_bn_u = X_u[0:3,100]\n",
    "print('The attitude $\\sigma_B/N(100s)$ is: ', s_bn_u)"
   ]
  },
  {
   "cell_type": "code",
   "execution_count": 22,
   "metadata": {},
   "outputs": [
    {
     "data": {
      "text/plain": [
       "(111,)"
      ]
     },
     "execution_count": 22,
     "metadata": {},
     "output_type": "execute_result"
    }
   ],
   "source": [
    "X_u.shape\n",
    "np.arange(0,111,1).shape"
   ]
  },
  {
   "cell_type": "code",
   "execution_count": 23,
   "metadata": {},
   "outputs": [
    {
     "data": {
      "text/plain": [
       "[<matplotlib.lines.Line2D at 0x7f9884607f10>]"
      ]
     },
     "execution_count": 23,
     "metadata": {},
     "output_type": "execute_result"
    },
    {
     "data": {
      "image/png": "[encoded data removed]",
      "text/plain": [
       "<Figure size 432x288 with 1 Axes>"
      ]
     },
     "metadata": {
      "needs_background": "light"
     },
     "output_type": "display_data"
    }
   ],
   "source": [
    "S_bn_u = X_u[0:3,:]\n",
    "plt.plot(np.arange(0,111,1), norm(S_bn_u,2,0))"
   ]
  },
  {
   "cell_type": "markdown",
   "metadata": {},
   "source": [
    "## Task 8: Sun Pointing Control\n",
    "\n",
    "First the individual control pointing modes are developed and tested on their own. Next they are com- bined into a full mission scenario simulation in section 4.11. In the current task, use the initial spacecraft attitude and orbit conditions in section 1.8 and Table below\n",
    "\n",
    "<table>\n",
    "    <caption>Table 1: Initial Orbit Frame Orientation Angle (in degrees)\n",
    "    </caption>\n",
    "    <thead>\n",
    "        <tr>\n",
    "            <th> Spacecraft </th>\n",
    "            <th> $\\Omega$ </th>\n",
    "            <th> $i$ </th>\n",
    "            <th> $$\\theta(t_0)$$ </th>\n",
    "        </tr>\n",
    "    </thead>\n",
    "    <tbody>\n",
    "        <tr>\n",
    "            <td> LMO</td>\n",
    "            <td> 20</td>\n",
    "            <td> 30</td>\n",
    "            <td> 60</td>\n",
    "        </tr>\n",
    "        <tr>\n",
    "            <td> GMO</td>\n",
    "            <td> 0</td>\n",
    "            <td> 0</td>\n",
    "            <td> 250</td>\n",
    "        <tr>    \n",
    "    </tbody>\n",
    "</table>\n",
    "\n",
    "\n",
    "and assume the spacecraft is to engage directly into a sun-pointing mode starting at $t_0$. The attitude control law is the simple PD control\n",
    "\n",
    "$$\n",
    "^B\\pmb u = -K\\pmb\\sigma_{B/R} - P ^B\\pmb\\omega_{B/R}.\n",
    "$$\n",
    "\n",
    "Your tasks are:\n",
    "\n",
    "1. Numerically implement this control law in your earlier simulation and ensure that sun-pointing is achieved with the desired closed loop performance.\n",
    "\n",
    "2. Use linearized closed loop dynamics of a regular problem, such as this sun pointing control, to determine the $K$ and $P$ feedback gains such that the slowest decay response time (i.e. time for tracking errors to be $1/e$ the original size) is $120$ seconds. This means all decay time constants should be $120$ seconds or less. Further, the closed loop response for all $ \\pmb\\sigma_{B/N}$ components should be either critically damped or underdamped. Thus at least must be critically damped with $\\xi = 1$, while the other modes will have $\\xi ≤ 1$.\n",
    "\n",
    "3. Validate the response by providing the $\\pmb\\sigma_{B/N}$ states at $t = 15s$, $100s$, $200s$ and $400s$. Note that you must always provide the MRP corresponding to the short rotation.\n",
    "\n",
    "Since we want that the decay time to be $120s$ and the components to be damped or under damped for the Sun-pointing (third axis of spacecraft) and the formula from the linearized closed loop dynamics of a regulator problem are:\n",
    "$$\n",
    "T_i = \\frac{2I_i}{P_i} , \\ \\ \\xi_i =\\frac{P_i}{\\sqrt{KI_i}}\n",
    "$$\n",
    "\n",
    "if we choose $T_1=120s$ then:\n",
    "$$\n",
    "P= \\frac{2I_1}{T_1} =\\frac{1}{6}\n",
    "$$\n",
    "then by checking all the options we get that the only one possible is for\n",
    "\n",
    "$$\n",
    "k = \\frac{p^2}{I_1}\n",
    "$$\n",
    "i.e $\\xi_2 = 1$. Then we get that $\\xi_1,\\xi_3\\leq 1$ and $T_2,T_3<=120s$ as requested."
   ]
  },
  {
   "cell_type": "code",
   "execution_count": 47,
   "metadata": {},
   "outputs": [],
   "source": [
    "I = np.diag([10, 5, 7.5])\n",
    "p = 2*10/120\n",
    "k = (p**2)/I[1,1] # only choosing xi_2 =1 leads to the others being less than 1\n",
    "T_1 = 2*I[0,0]/p\n",
    "T_2 = 2*I[1,1]/p\n",
    "T_3 = 2*I[2,2]/p\n",
    "\n",
    "P =  np.diag([2*10/T_1, 2*5/T_2, 2*7.5/T_3])\n",
    "xi_1 = P[0,0]/np.sqrt(k*I[0,0])\n",
    "xi_2 = P[1,1]/np.sqrt(k*I[1,1])\n",
    "xi_3 = P[2,2]/np.sqrt(k*I[2,2])\n"
   ]
  },
  {
   "cell_type": "code",
   "execution_count": 48,
   "metadata": {},
   "outputs": [
    {
     "name": "stdout",
     "output_type": "stream",
     "text": [
      "feedbacks P and K are:  0.16666666666666666 0.005555555555555555\n",
      "times T_1, T_2, T_3 are:  120.0 60.0 90.0 \n",
      " xi_1 =  0.7071067811865475 \n",
      " xi_2 = 1.0 \n",
      " xi_3 =  0.816496580927726 \n",
      " P= [[0.16666667 0.         0.        ]\n",
      " [0.         0.16666667 0.        ]\n",
      " [0.         0.         0.16666667]]\n"
     ]
    }
   ],
   "source": [
    "print('feedbacks P and K are: ',p, k)\n",
    "print('times T_1, T_2, T_3 are: ', T_1, T_2, T_3, '\\n xi_1 = ', xi_1 , '\\n xi_2 =', xi_2, '\\n xi_3 = ', xi_3, '\\n P=', P)"
   ]
  },
  {
   "cell_type": "markdown",
   "metadata": {},
   "source": [
    "K"
   ]
  },
  {
   "cell_type": "code",
   "execution_count": 26,
   "metadata": {},
   "outputs": [],
   "source": [
    "I = np.diag([10, 5, 7.5]) \n",
    "s_BN0 = np.array([0.3, -0.4, 0.5])\n",
    "B_w_BN0 = np.array([1.0, 1.75, -2.20])*np.pi/180 #in radians. Initial condition for w_BN\n",
    "x0 = np.hstack((s_BN0, B_w_BN0)) # initial condition for state x\n",
    "P= 0.16666666666666666\n",
    "k = 0.005555555555555555\n",
    "tspan = (0,500) # seconds\n",
    "\n",
    "\n",
    "X,t,U, S_BR = control_simulation(xdot, tspan, x0, 'sun', I)"
   ]
  },
  {
   "cell_type": "code",
   "execution_count": 27,
   "metadata": {},
   "outputs": [
    {
     "name": "stdout",
     "output_type": "stream",
     "text": [
      "MRP's at 15s, 100s 200s and 400s are: \n",
      "[ 0.26559864 -0.15982644  0.47332788]\n",
      "[0.16882911 0.54823028 0.57886562]\n",
      "[-0.11812708 -0.75786006 -0.59148988]\n",
      "[-0.01011126 -0.7188414  -0.68606881]\n"
     ]
    }
   ],
   "source": [
    "print('MRP\\'s at 15s, 100s 200s and 400s are: ')\n",
    "print(X[0:3,150])\n",
    "print(X[0:3,1000])\n",
    "print(X[0:3,2000])\n",
    "print(X[0:3,4000])"
   ]
  },
  {
   "cell_type": "code",
   "execution_count": 29,
   "metadata": {},
   "outputs": [
    {
     "data": {
      "text/plain": [
       "[<matplotlib.lines.Line2D at 0x7f9884814400>]"
      ]
     },
     "execution_count": 29,
     "metadata": {},
     "output_type": "execute_result"
    },
    {
     "data": {
      "image/png": "[encoded data removed]",
      "text/plain": [
       "<Figure size 432x288 with 1 Axes>"
      ]
     },
     "metadata": {
      "needs_background": "light"
     },
     "output_type": "display_data"
    }
   ],
   "source": [
    "plt.plot(t[0:3000], U[0,0:3000], 'b-')\n"
   ]
  },
  {
   "cell_type": "code",
   "execution_count": 30,
   "metadata": {},
   "outputs": [
    {
     "name": "stdout",
     "output_type": "stream",
     "text": [
      "[-0.77542077 -0.47386825  0.04307893] [-0.77542077 -0.47386825  0.04307893]\n"
     ]
    }
   ],
   "source": [
    "_,S_BR0 = sigma_b_r(s_BN0, s_RN)\n",
    "print(S_BR[:,0], S_BR0)"
   ]
  },
  {
   "cell_type": "code",
   "execution_count": 31,
   "metadata": {},
   "outputs": [
    {
     "data": {
      "image/png": "[encoded data removed]",
      "text/plain": [
       "<Figure size 1440x432 with 1 Axes>"
      ]
     },
     "metadata": {
      "needs_background": "light"
     },
     "output_type": "display_data"
    },
    {
     "data": {
      "text/plain": [
       "<matplotlib.lines.Line2D at 0x7f9884928460>"
      ]
     },
     "execution_count": 31,
     "metadata": {},
     "output_type": "execute_result"
    },
    {
     "data": {
      "image/png": "[encoded data removed]",
      "text/plain": [
       "<Figure size 1440x432 with 1 Axes>"
      ]
     },
     "metadata": {
      "needs_background": "light"
     },
     "output_type": "display_data"
    }
   ],
   "source": [
    "plt.figure(figsize = (20,6))\n",
    "plt.plot(t[1000:1300], S_BR[1,1000:1300])\n",
    "plt.axhline(S_BR0[1]/np.e)\n",
    "plt.show()\n",
    "\n",
    "plt.figure(figsize = (20,6))\n",
    "plt.plot(t, S_BR[0,:])\n",
    "plt.axhline(S_BR0[0]/np.e)"
   ]
  },
  {
   "cell_type": "markdown",
   "metadata": {},
   "source": [
    "## Task 9: Nadir Pointing Control \n",
    "\n",
    "Next the nadir pointing attitude mode is created and tested. Use the same gains $K$ and $P$ as developed for sun-pointing, and the same PD control. Your tasks are:\n",
    "\n",
    "1. Numerically implement the nadir pointing control mode and for now just assume that at $t_0$ nadir pointing is required, even though the satellite is in the sunlight at this time.\n",
    "\n",
    "2.  Validate the response by providing the $\\pmb\\sigma_{B/N}$ states at $t = 15s$, $100s$, $200s$ and $400s$. Note that you must always provide the MRP corresponding to the short rotation."
   ]
  },
  {
   "cell_type": "code",
   "execution_count": 32,
   "metadata": {},
   "outputs": [],
   "source": [
    "I = np.diag([10, 5, 7.5]) \n",
    "s_BN0 = np.array([0.3, -0.4, 0.5])\n",
    "B_w_BN0 = np.array([1.0, 1.75, -2.20])*np.pi/180 #in radians. Initial condition for w_BN\n",
    "x0 = np.hstack((s_BN0, B_w_BN0)) # initial condition for state x\n",
    "P= 0.16666666666666666\n",
    "k = 0.005555555555555555\n",
    "tspan = (0,500) # seconds\n",
    "\n",
    "\n",
    "X_nadir,t,U_nadir, S_BR_nadir = control_simulation(xdot, tspan, x0, 'nadir', I)"
   ]
  },
  {
   "cell_type": "code",
   "execution_count": 33,
   "metadata": {},
   "outputs": [
    {
     "name": "stdout",
     "output_type": "stream",
     "text": [
      "MRP's at 15s, 100s 200s and 400s are: \n",
      "[ 0.29107835 -0.19123835  0.45350819]\n",
      "[ 0.5661211  -0.13739225  0.1522067 ]\n",
      "[ 0.79577465 -0.45980282 -0.12651499]\n",
      "[-0.65283837  0.53489647  0.17461124]\n"
     ]
    }
   ],
   "source": [
    "print('MRP\\'s at 15s, 100s 200s and 400s are: ')\n",
    "print(X_nadir[0:3,150])\n",
    "print(X_nadir[0:3,1000])\n",
    "print(X_nadir[0:3,2000])\n",
    "print(X_nadir[0:3, 4000])"
   ]
  },
  {
   "cell_type": "markdown",
   "metadata": {},
   "source": [
    "## Task 10: GMO Pointing Control \n",
    "\n",
    "Next the GMO pointing attitude mode is created and test. Use the same gains K and P as developed for sun-pointing, and the smae PD control. Your tasks are:\n",
    "\n",
    "1. Numerically implement the GMO pointing control mode and for now just assume that at t0 nadir pointing is required, even though the satellite is in the sunlight at this time.\n",
    "\n",
    "2. Validate the response by providing the $\\pmb\\sigma_{B/N}$ states at $t = 15s$, $100s$, $200s$ and $400s$. Note that you must always provide the MRP corresponding to the short rotation."
   ]
  },
  {
   "cell_type": "code",
   "execution_count": 34,
   "metadata": {},
   "outputs": [],
   "source": [
    "I = np.diag([10, 5, 7.5]) \n",
    "s_BN0 = np.array([0.3, -0.4, 0.5])\n",
    "B_w_BN0 = np.array([1.0, 1.75, -2.20])*np.pi/180 #in radians. Initial condition for w_BN\n",
    "x0 = np.hstack((s_BN0, B_w_BN0)) # initial condition for state x\n",
    "P= 0.16666666666666666\n",
    "k = 0.005555555555555555\n",
    "tspan = (0,500) # seconds\n",
    "\n",
    "\n",
    "X_GMO,t,U_GMO, S_BR_GMO = control_simulation(xdot, tspan, x0, 'GMO', I)"
   ]
  },
  {
   "cell_type": "code",
   "execution_count": 35,
   "metadata": {},
   "outputs": [
    {
     "name": "stdout",
     "output_type": "stream",
     "text": [
      "MRP's at 15s, 100s 200s and 400s are: \n",
      "[ 0.26543648 -0.16878782  0.45949128]\n",
      "[0.156142   0.22164113 0.34316237]\n",
      "[0.08727568 0.11934993 0.31618681]\n",
      "[ 0.00497196 -0.01648251  0.34238529]\n"
     ]
    }
   ],
   "source": [
    "print('MRP\\'s at 15s, 100s 200s and 400s are: ')\n",
    "print(X_GMO[0:3,150])\n",
    "print(X_GMO[0:3,1000])\n",
    "print(X_GMO[0:3,2000])\n",
    "print(X_GMO[0:3, 4000])"
   ]
  },
  {
   "cell_type": "code",
   "execution_count": 194,
   "metadata": {},
   "outputs": [
    {
     "name": "stdout",
     "output_type": "stream",
     "text": [
      "[ 4.96227668e-03 -2.29568676e-02  3.47050130e-01  1.49109467e-04\n",
      " -1.00166899e-04  1.48166986e-04] [ 4.96227668e-03 -2.29568676e-02  3.47050130e-01  1.49109467e-04\n",
      " -1.00166899e-04  1.48166986e-04]\n"
     ]
    }
   ],
   "source": []
  },
  {
   "cell_type": "markdown",
   "metadata": {},
   "source": [
    "## Task 11  Mission Scenario Simulation\n",
    "\n",
    "Finally you are ready to simulate the full on mission scenario. Use the initial spacecraft attitude and orbit conditions give before and Table 1, then propagate 6500 seconds to demonstrate how the attitude pointing performance of the nano-satellite as it enters different control modes. Your tasks are:\n",
    "\n",
    "1. Numerically implement a login into your above simulation such that the satellite automatically computer the proper reference frame stages as it switches between sun-pointing, nadir-pointing and communication modes.\n",
    "\n",
    "2. Validate the response by providing the $\\pmb\\sigma_{B/N}$ states at $t = 300s$, $2100s$, $3400s$, $4400s$ and $5600s$. Note that you must always provide the MRP corresponding to the short rotation.\n"
   ]
  },
  {
   "cell_type": "code",
   "execution_count": 41,
   "metadata": {},
   "outputs": [],
   "source": [
    "import math\n",
    "hLMO = 400\n",
    "hGMO = 17028.010000000002\n",
    "Omega_LMO, i_LMO, theta0_LMO = 20, 30, 60\n",
    "Omega_GMO, i_GMO, theta0_GMO = 0, 0, 250\n",
    "\n",
    "def angle(rLMO, rGMO):\n",
    "    return math.acos(np.dot(rLMO,rGMO)/(norm(rLMO,2) * norm(rGMO,2)))*180/np.pi\n",
    "\n",
    "T = 4000\n",
    "R_LMO = np.zeros((3,6500))\n",
    "R_GMO = np.zeros((3,6500))\n",
    "angles = np.zeros(6500)\n",
    "thetaLMO = np.zeros(6500)\n",
    "thetaGMO = np.zeros(6500)\n",
    "for t in range(0, 6500):\n",
    "    pos_LMO, _ = pos_and_vel(hLMO, (Omega_LMO, i_LMO, theta0_LMO),t)\n",
    "    pos_GMO, _ = pos_and_vel(hGMO, (Omega_GMO, i_GMO, theta0_GMO),t)\n",
    "    R_LMO[:,t] = pos_LMO\n",
    "    R_GMO[:,t] = pos_GMO\n",
    "    angles[t] = angle(pos_LMO,pos_GMO)\n",
    "    tdotLMO = theta_dot(hLMO)*t*180/np.pi + 60\n",
    "    tdotGMO = theta_dot(hGMO)*t*180/np.pi + 250\n",
    "    thetaLMO[t] = tdotLMO\n",
    "    thetaGMO[t] = tdotGMO\n"
   ]
  },
  {
   "cell_type": "code",
   "execution_count": null,
   "metadata": {},
   "outputs": [],
   "source": []
  },
  {
   "cell_type": "code",
   "execution_count": 44,
   "metadata": {},
   "outputs": [
    {
     "data": {
      "image/png": "[encoded data removed]",
      "text/plain": [
       "<Figure size 1440x432 with 1 Axes>"
      ]
     },
     "metadata": {
      "needs_background": "light"
     },
     "output_type": "display_data"
    },
    {
     "data": {
      "text/plain": [
       "<matplotlib.legend.Legend at 0x7f9884903340>"
      ]
     },
     "execution_count": 44,
     "metadata": {},
     "output_type": "execute_result"
    },
    {
     "data": {
      "image/png": "[encoded data removed]",
      "text/plain": [
       "<Figure size 1440x432 with 1 Axes>"
      ]
     },
     "metadata": {
      "needs_background": "light"
     },
     "output_type": "display_data"
    }
   ],
   "source": [
    "plt.figure(figsize = (20,6))\n",
    "plt.plot(np.arange(0, 6500, 1), R_LMO[1,:], color = 'green')\n",
    "#plt.plot(np.arange(0,6500, 1), R_GMO[1,:], color = 'red')\n",
    "plt.axhline(0)\n",
    "plt.axvline(1918, color = 'red', label='finish sun')\n",
    "plt.axvline(3057, color = 'darkblue', label = 'start comm')\n",
    "plt.axvline(4067, color= 'darkblue' ,label = 'finish comm')\n",
    "plt.axvline(5469, label = 'sunlit')\n",
    "plt.xlabel('time [s]')\n",
    "plt.ylabel('n2 coordinate of the nano satellite [km]')\n",
    "plt.legend()\n",
    "plt.show()\n",
    "\n",
    "plt.figure(figsize = (20,6))\n",
    "plt.plot(np.arange(0,6500,1), angles, label = 'angle between r_LMO and r_GMO')\n",
    "plt.xlabel('time [s]')\n",
    "plt.ylabel('degrees')\n",
    "plt.axhline(35)\n",
    "plt.axvline(3057)\n",
    "plt.axvline(4067)\n",
    "plt.legend()\n",
    "#plt.plot(np.arange(0, 6500, 1), np.abs(thetaLMO - thetaGMO), color = 'green')"
   ]
  },
  {
   "cell_type": "markdown",
   "metadata": {},
   "source": [
    "### The functions above allow us to computes the times to swtich from power mode (sun pointing) to science mode (nadir pointing) and communication mode (GMO pointing)"
   ]
  },
  {
   "cell_type": "code",
   "execution_count": 45,
   "metadata": {},
   "outputs": [],
   "source": [
    "def angle(v,w):\n",
    "    a = math.acos(np.dot(v,w)/(norm(v)*norm(w)))*180/np.pi\n",
    "    return a\n",
    "\n",
    "def Is_sunlit(t):\n",
    "    h = hLMO\n",
    "    r, _ = pos_and_vel(h, (20,30,60),t)\n",
    "    return r[1] >= 0\n",
    "\n",
    "def comm_pos(t) :\n",
    "    pos_lmo, _ = pos_and_vel(hLMO,(20,30, 60), t)\n",
    "    pos_gmo, _ = pos_and_vel(hGMO, (0,0,250),t)\n",
    "    return angle(pos_lmo, pos_gmo) <= 35\n",
    "\n",
    "def switching_times():\n",
    "    t = 0        \n",
    "    while Is_sunlit(t) == True:\n",
    "        t += 1\n",
    "    tshade  = t\n",
    "     \n",
    "    tscience = tshade\n",
    "    while not comm_pos(tscience) :\n",
    "        tscience = tscience + 1\n",
    "    \n",
    "    tcom = tscience\n",
    "    while comm_pos(tcom)==True and Is_sunlit(tcom)==False:\n",
    "        tcom = tcom +1\n",
    "        if tcom > 6500 :\n",
    "            break\n",
    "        \n",
    "    if  Is_sunlit(tcom) == False:\n",
    "        tscience2 = tcom\n",
    "        while Is_sunlit(tscience2) == False :\n",
    "            tscience2 += 1\n",
    "            if tscience2 >6500 :\n",
    "                break\n",
    "    tsun = tscience2\n",
    "    while Is_sunlit(tsun) ==True:\n",
    "        tsun += 1\n",
    "        if tsun> 6500:\n",
    "            break\n",
    "    \n",
    "    return tshade, tscience, tcom, tscience2, tsun\n",
    "\n"
   ]
  },
  {
   "cell_type": "code",
   "execution_count": 46,
   "metadata": {},
   "outputs": [
    {
     "name": "stdout",
     "output_type": "stream",
     "text": [
      "1918 3057 4067 5469 6501\n"
     ]
    }
   ],
   "source": [
    "t1,t2,t3,t4,t5 =intervals()\n",
    "print(t1,t2,t3,t4,t5)"
   ]
  },
  {
   "cell_type": "code",
   "execution_count": 186,
   "metadata": {},
   "outputs": [],
   "source": [
    "a =np.eye(3)\n",
    "b = np.zeros((3,5))\n",
    "d = np.ones((3,3))"
   ]
  },
  {
   "cell_type": "code",
   "execution_count": 187,
   "metadata": {},
   "outputs": [],
   "source": [
    "c = np.hstack((a,b,d))"
   ]
  },
  {
   "cell_type": "code",
   "execution_count": 188,
   "metadata": {},
   "outputs": [
    {
     "name": "stdout",
     "output_type": "stream",
     "text": [
      "[[1. 0. 0. 0. 0. 0. 0. 0. 1. 1. 1.]\n",
      " [0. 1. 0. 0. 0. 0. 0. 0. 1. 1. 1.]\n",
      " [0. 0. 1. 0. 0. 0. 0. 0. 1. 1. 1.]]\n"
     ]
    }
   ],
   "source": [
    "print(c)"
   ]
  },
  {
   "cell_type": "code",
   "execution_count": 36,
   "metadata": {},
   "outputs": [],
   "source": [
    "X, X_sun, X_nadir, X_comm, X_nadir2, X_sun2 = control_spacecraft()"
   ]
  },
  {
   "cell_type": "code",
   "execution_count": 38,
   "metadata": {},
   "outputs": [
    {
     "data": {
      "text/plain": [
       "(6, 65000)"
      ]
     },
     "execution_count": 38,
     "metadata": {},
     "output_type": "execute_result"
    }
   ],
   "source": [
    "X.shape"
   ]
  },
  {
   "cell_type": "code",
   "execution_count": 39,
   "metadata": {},
   "outputs": [
    {
     "name": "stdout",
     "output_type": "stream",
     "text": [
      "The MRP sigma_B/N states at t = 300s, 2100s, 3400s, 4400s and 5600s are: \n",
      "[-0.04422057 -0.73855063 -0.63065311]\n",
      "[-0.74576509  0.11392308  0.15812376]\n",
      "[0.01317172 0.03979947 0.39069348]\n",
      "[-0.43314942 -0.73234532 -0.18772896]\n",
      "[-0.00116637 -0.82595224 -0.50443262]\n"
     ]
    }
   ],
   "source": [
    "print('The MRP sigma_B/N states at t = 300s, 2100s, 3400s, 4400s and 5600s are: ')\n",
    "print(X[0:3, 3000])\n",
    "print(X[0:3,21000])\n",
    "print(X[0:3,34000])\n",
    "print(X[0:3,44000])\n",
    "print(X[0:3,56000])"
   ]
  },
  {
   "cell_type": "code",
   "execution_count": null,
   "metadata": {},
   "outputs": [],
   "source": []
  }
 ],
 "metadata": {
  "kernelspec": {
   "display_name": "Python 3",
   "language": "python",
   "name": "python3"
  },
  "language_info": {
   "codemirror_mode": {
    "name": "ipython",
    "version": 3
   },
   "file_extension": ".py",
   "mimetype": "text/x-python",
   "name": "python",
   "nbconvert_exporter": "python",
   "pygments_lexer": "ipython3",
   "version": "3.8.2"
  }
 },
 "nbformat": 4,
 "nbformat_minor": 4
}
